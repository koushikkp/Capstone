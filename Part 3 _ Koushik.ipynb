{
 "cells": [
  {
   "cell_type": "code",
   "execution_count": 2,
   "metadata": {},
   "outputs": [
    {
     "data": {
      "text/plain": [
       "'1.8.0'"
      ]
     },
     "execution_count": 2,
     "metadata": {},
     "output_type": "execute_result"
    }
   ],
   "source": [
    "%matplotlib inline\n",
    "import matplotlib.pyplot as plt\n",
    "import tensorflow as tf\n",
    "import numpy as np\n",
    "import time\n",
    "from datetime import timedelta\n",
    "import math\n",
    "import os\n",
    "import scipy.misc\n",
    "from scipy.stats import itemfreq\n",
    "from random import sample\n",
    "import pickle\n",
    "from sklearn.metrics import confusion_matrix\n",
    "from sklearn.model_selection import train_test_split\n",
    "\n",
    "# Image manipulation.\n",
    "import PIL.Image\n",
    "from IPython.display import display\n",
    "#from resizeimage import resizeimage\n",
    "\n",
    "#Panda\n",
    "import pandas as pd\n",
    "\n",
    "#Open a Zip File\n",
    "from zipfile import ZipFile\n",
    "from io import BytesIO\n",
    "\n",
    "#check tensorflow version\n",
    "tf.__version__"
   ]
  },
  {
   "cell_type": "code",
   "execution_count": 3,
   "metadata": {},
   "outputs": [],
   "source": [
    "def DataBase_creator(archivezip, nwigth, nheight, save_name):\n",
    "    #We choose the archive (zip file) + the new wigth and height for all the image which will be reshaped\n",
    "    \n",
    "    # Start-time used for printing time-usage below.\n",
    "    start_time = time.time()\n",
    "    \n",
    "    s = (len(archivezip.namelist()[:])-1, nwigth, nheight,3) #nwigth x nheight = number of features because images are nwigth x nheight pixels\n",
    "    allImage = np.zeros(s)\n",
    "\n",
    "    for i in range(1,len(archivezip.namelist()[:])):\n",
    "        filename = BytesIO(archivezip.read(archivezip.namelist()[i]))\n",
    "        image = PIL.Image.open(filename) # open colour image\n",
    "        image = image.resize((nwigth, nheight))\n",
    "        image = np.array(image)\n",
    "        image = np.clip(image/255.0, 0.0, 1.0) #255 = max of the value of a pixel\n",
    "\n",
    "        allImage[i-1]=image\n",
    "    \n",
    "    #we save the newly created data base\n",
    "    pickle.dump(allImage, open( save_name + '.p', \"wb\" ) )\n",
    "    \n",
    "    # Ending time.\n",
    "    end_time = time.time()\n",
    "\n",
    "    # Difference between start and end-times.\n",
    "    time_dif = end_time - start_time\n",
    "\n",
    "    # Print the time-usage.\n",
    "    print(\"Time usage: \" + str(timedelta(seconds=int(round(time_dif)))))"
   ]
  },
  {
   "cell_type": "code",
   "execution_count": 4,
   "metadata": {},
   "outputs": [
    {
     "data": {
      "text/plain": [
       "10222"
      ]
     },
     "execution_count": 4,
     "metadata": {},
     "output_type": "execute_result"
    }
   ],
   "source": [
    "archive_train = ZipFile(\"/home/koushik/Downloads/train.zip\", 'r')\n",
    "\n",
    "#This line shows the 5 first image name of the train database\n",
    "archive_train.namelist()[0:5]\n",
    "\n",
    "#This line shows the number of images in the train database\n",
    "len(archive_train.namelist()[:])-1 #we must remove the 1st value"
   ]
  },
  {
   "cell_type": "code",
   "execution_count": 5,
   "metadata": {},
   "outputs": [],
   "source": [
    "image_resize = 40"
   ]
  },
  {
   "cell_type": "code",
   "execution_count": 6,
   "metadata": {},
   "outputs": [
    {
     "name": "stdout",
     "output_type": "stream",
     "text": [
      "Time usage: 0:02:45\n"
     ]
    }
   ],
   "source": [
    "DataBase_creator(archivezip = archive_train, nwigth = image_resize, nheight = image_resize , save_name = \"train\")"
   ]
  },
  {
   "cell_type": "code",
   "execution_count": 7,
   "metadata": {},
   "outputs": [
    {
     "data": {
      "text/plain": [
       "(10222, 40, 40, 3)"
      ]
     },
     "execution_count": 7,
     "metadata": {},
     "output_type": "execute_result"
    }
   ],
   "source": [
    "train = pickle.load( open( \"train.p\", \"rb\" ) )\n",
    "train.shape"
   ]
  },
  {
   "cell_type": "code",
   "execution_count": 9,
   "metadata": {},
   "outputs": [
    {
     "data": {
      "text/html": [
       "<div>\n",
       "<style scoped>\n",
       "    .dataframe tbody tr th:only-of-type {\n",
       "        vertical-align: middle;\n",
       "    }\n",
       "\n",
       "    .dataframe tbody tr th {\n",
       "        vertical-align: top;\n",
       "    }\n",
       "\n",
       "    .dataframe thead th {\n",
       "        text-align: right;\n",
       "    }\n",
       "</style>\n",
       "<table border=\"1\" class=\"dataframe\">\n",
       "  <thead>\n",
       "    <tr style=\"text-align: right;\">\n",
       "      <th></th>\n",
       "      <th>id</th>\n",
       "      <th>breed</th>\n",
       "    </tr>\n",
       "  </thead>\n",
       "  <tbody>\n",
       "    <tr>\n",
       "      <th>4649</th>\n",
       "      <td>7453c0ad6556fbbc5443a046855bdd22</td>\n",
       "      <td>irish_setter</td>\n",
       "    </tr>\n",
       "    <tr>\n",
       "      <th>5406</th>\n",
       "      <td>88664fc7a27b5828860ef5bae18b5309</td>\n",
       "      <td>italian_greyhound</td>\n",
       "    </tr>\n",
       "    <tr>\n",
       "      <th>8778</th>\n",
       "      <td>dc07c140b26ba8f2c75770f00229270b</td>\n",
       "      <td>japanese_spaniel</td>\n",
       "    </tr>\n",
       "    <tr>\n",
       "      <th>7221</th>\n",
       "      <td>b4f8d8eff4f0b4d93b8416a87daa3b93</td>\n",
       "      <td>newfoundland</td>\n",
       "    </tr>\n",
       "    <tr>\n",
       "      <th>923</th>\n",
       "      <td>16a760e466fd2b2fe0ef8879b5b2245d</td>\n",
       "      <td>groenendael</td>\n",
       "    </tr>\n",
       "  </tbody>\n",
       "</table>\n",
       "</div>"
      ],
      "text/plain": [
       "                                    id              breed\n",
       "4649  7453c0ad6556fbbc5443a046855bdd22       irish_setter\n",
       "5406  88664fc7a27b5828860ef5bae18b5309  italian_greyhound\n",
       "8778  dc07c140b26ba8f2c75770f00229270b   japanese_spaniel\n",
       "7221  b4f8d8eff4f0b4d93b8416a87daa3b93       newfoundland\n",
       "923   16a760e466fd2b2fe0ef8879b5b2245d        groenendael"
      ]
     },
     "execution_count": 9,
     "metadata": {},
     "output_type": "execute_result"
    }
   ],
   "source": [
    "labels_raw = pd.read_csv(\"/home/koushik/Downloads/labels.csv.zip\", compression='zip', header=0, sep=',', quotechar='\"')\n",
    "\n",
    "#Check 5 random values\n",
    "labels_raw.sample(5)"
   ]
  },
  {
   "cell_type": "code",
   "execution_count": 10,
   "metadata": {},
   "outputs": [
    {
     "name": "stdout",
     "output_type": "stream",
     "text": [
      "- Number of images remaining after selecting the 120 main breeds : (10222,)\n",
      "- The shape of train_filtered dataset is : (10222, 40, 40, 3)\n"
     ]
    }
   ],
   "source": [
    "Nber_of_breeds = 120\n",
    "\n",
    "#######Get the N most represented breeds########\n",
    "def main_breeds(labels_raw, Nber_breeds , all_breeds='TRUE'):\n",
    "    labels_freq_pd = itemfreq(labels_raw[\"breed\"])\n",
    "    labels_freq_pd = labels_freq_pd[labels_freq_pd[:, 1].argsort()[::-1]] #[::-1] ==> to sort in descending order\n",
    "    \n",
    "    if all_breeds == 'FALSE':\n",
    "        main_labels = labels_freq_pd[:,0][0:Nber_breeds]\n",
    "    else: \n",
    "        main_labels = labels_freq_pd[:,0][:]\n",
    "        \n",
    "    labels_raw_np = labels_raw[\"breed\"].as_matrix() #transform in numpy\n",
    "    labels_raw_np = labels_raw_np.reshape(labels_raw_np.shape[0],1)\n",
    "\n",
    "    labels_filtered_index = np.where(labels_raw_np == main_labels)\n",
    "    \n",
    "    return labels_filtered_index\n",
    "\n",
    "labels_filtered_index = main_breeds(labels_raw = labels_raw, Nber_breeds = Nber_of_breeds, all_breeds='FALSE')\n",
    "labels_filtered = labels_raw.iloc[labels_filtered_index[0],:]\n",
    "train_filtered = train[labels_filtered_index[0],:,:,:]\n",
    "\n",
    "print('- Number of images remaining after selecting the {0} main breeds : {1}'.format(Nber_of_breeds, labels_filtered_index[0].shape))\n",
    "print('- The shape of train_filtered dataset is : {0}'.format(train_filtered.shape))"
   ]
  },
  {
   "cell_type": "code",
   "execution_count": 11,
   "metadata": {},
   "outputs": [
    {
     "data": {
      "text/plain": [
       "(10222, 1)"
      ]
     },
     "execution_count": 11,
     "metadata": {},
     "output_type": "execute_result"
    }
   ],
   "source": [
    "labels = labels_filtered[\"breed\"].as_matrix()\n",
    "labels = labels.reshape(labels.shape[0],1) #labels.shape[0] looks faster than using len(labels)\n",
    "labels.shape"
   ]
  },
  {
   "cell_type": "code",
   "execution_count": 12,
   "metadata": {},
   "outputs": [],
   "source": [
    "def matrix_Bin(labels):\n",
    "    labels_bin=np.array([])\n",
    "\n",
    "    labels_name, labels0 = np.unique(labels, return_inverse=True)\n",
    "    labels0\n",
    "    \n",
    "    for _, i in enumerate(itemfreq(labels0)[:,0].astype(int)):\n",
    "        labels_bin0 = np.where(labels0 == itemfreq(labels0)[:,0][i], 1., 0.)\n",
    "        labels_bin0 = labels_bin0.reshape(1,labels_bin0.shape[0])\n",
    "\n",
    "        if (labels_bin.shape[0] == 0):\n",
    "            labels_bin = labels_bin0\n",
    "        else:\n",
    "            labels_bin = np.concatenate((labels_bin,labels_bin0 ),axis=0)\n",
    "\n",
    "    print(\"Nber SubVariables {0}\".format(itemfreq(labels0)[:,0].shape[0]))\n",
    "    labels_bin = labels_bin.transpose()\n",
    "    print(\"Shape : {0}\".format(labels_bin.shape))\n",
    "    \n",
    "    return labels_name, labels_bin"
   ]
  },
  {
   "cell_type": "code",
   "execution_count": 13,
   "metadata": {},
   "outputs": [
    {
     "name": "stdout",
     "output_type": "stream",
     "text": [
      "Nber SubVariables 120\n",
      "Shape : (10222, 120)\n"
     ]
    }
   ],
   "source": [
    "labels_name, labels_bin = matrix_Bin(labels)"
   ]
  },
  {
   "cell_type": "code",
   "execution_count": 14,
   "metadata": {},
   "outputs": [
    {
     "data": {
      "text/plain": [
       "(7155, 40, 40, 3)"
      ]
     },
     "execution_count": 14,
     "metadata": {},
     "output_type": "execute_result"
    }
   ],
   "source": [
    "num_validation = 0.30\n",
    "X_train, X_validation, y_train, y_validation = train_test_split(train_filtered, labels_bin, test_size=num_validation, random_state=6)\n",
    "X_train.shape"
   ]
  },
  {
   "cell_type": "code",
   "execution_count": 15,
   "metadata": {},
   "outputs": [
    {
     "data": {
      "text/plain": [
       "array([ 16,  39,   5,  89,  77, 113,  68,  15,  23])"
      ]
     },
     "execution_count": 15,
     "metadata": {},
     "output_type": "execute_result"
    }
   ],
   "source": [
    "df_validation_toPred_cls = np.argmax(y_validation, axis=1)\n",
    "df_validation_toPred_cls[0:9]"
   ]
  },
  {
   "cell_type": "code",
   "execution_count": 16,
   "metadata": {},
   "outputs": [],
   "source": [
    "img_size = image_resize\n",
    "\n",
    "num_channels = 3\n",
    "\n",
    "img_size_flat = img_size * img_size\n",
    "\n",
    "img_shape = (img_size, img_size, num_channels)\n",
    "\n",
    "num_classes = Nber_of_breeds"
   ]
  },
  {
   "cell_type": "code",
   "execution_count": 17,
   "metadata": {},
   "outputs": [],
   "source": [
    "def new_weights(shape):\n",
    "    return tf.Variable(tf.truncated_normal(shape, stddev=0.05))\n",
    "\n",
    "def new_biases(length):\n",
    "    return tf.Variable(tf.constant(0.05, shape=[length]))"
   ]
  },
  {
   "cell_type": "code",
   "execution_count": 18,
   "metadata": {},
   "outputs": [],
   "source": [
    "def new_conv_layer(input,              # The previous layer.\n",
    "                   num_input_channels, # Num. channels in prev. layer.\n",
    "                   filter_size,        # Width and height of each filter.\n",
    "                   num_filters,     \n",
    "                   use_pooling=True,\n",
    "                   use_dropout=True):  # Use 2x2 max-pooling.\n",
    "    shape = [filter_size, filter_size, num_input_channels, num_filters]\n",
    "\n",
    "    weights = new_weights(shape=shape)\n",
    "    biases = new_biases(length=num_filters)\n",
    "    layer = tf.nn.conv2d(input=input,\n",
    "                         filter=weights,\n",
    "                         strides=[1, 1, 1, 1],\n",
    "                         padding='SAME')\n",
    "    layer += biases\n",
    "\n",
    "    \n",
    "    if use_pooling:\n",
    "        \n",
    "        layer = tf.nn.max_pool(value=layer,\n",
    "                               ksize=[1, 2, 2, 1],\n",
    "                               strides=[1, 2, 2, 1],\n",
    "                               padding='SAME')\n",
    "\n",
    "    layer = tf.nn.relu(layer)\n",
    "    \n",
    "    if use_dropout:\n",
    "        layer = tf.nn.dropout(layer,keep_prob_conv)\n",
    "\n",
    "    return layer, weights"
   ]
  },
  {
   "cell_type": "code",
   "execution_count": 19,
   "metadata": {},
   "outputs": [],
   "source": [
    "def flatten_layer(layer):\n",
    "    layer_shape = layer.get_shape()\n",
    "    num_features = layer_shape[1:4].num_elements()\n",
    "    layer_flat = tf.reshape(layer, [-1, num_features])\n",
    "\n",
    "    return layer_flat, num_features"
   ]
  },
  {
   "cell_type": "code",
   "execution_count": 20,
   "metadata": {},
   "outputs": [],
   "source": [
    "def new_fc_layer(input,          # The previous layer.\n",
    "                 num_inputs,     # Num. inputs from prev. layer.\n",
    "                 num_outputs,    # Num. outputs.\n",
    "                 use_relu=True,\n",
    "                 use_dropout=True): \n",
    "    weights = new_weights(shape=[num_inputs, num_outputs])\n",
    "    biases = new_biases(length=num_outputs)\n",
    "    layer = tf.matmul(input, weights) + biases\n",
    "    if use_relu:\n",
    "        layer = tf.nn.relu(layer)\n",
    "    \n",
    "    if use_dropout:\n",
    "        layer = tf.nn.dropout(layer,keep_prob_fc)\n",
    "        \n",
    "    return layer"
   ]
  },
  {
   "cell_type": "code",
   "execution_count": 21,
   "metadata": {},
   "outputs": [],
   "source": [
    "x = tf.placeholder(tf.float32, shape=[None, img_size, img_size, num_channels], name='x')\n",
    "x_image = tf.reshape(x, [-1, img_size, img_size, num_channels]) #-1 put everything as 1 array\n",
    "y_true = tf.placeholder(tf.float32, shape=[None, num_classes], name='y_true')\n",
    "y_true_cls = tf.argmax(y_true, axis=1)\n",
    "keep_prob_fc=tf.placeholder(tf.float32)\n",
    "keep_prob_conv=tf.placeholder(tf.float32)"
   ]
  },
  {
   "cell_type": "code",
   "execution_count": 22,
   "metadata": {},
   "outputs": [],
   "source": [
    "filter_size1 = 4          \n",
    "num_filters1 = 32       \n",
    "\n",
    "filter_size2 = 2          \n",
    "num_filters2 = 64      \n",
    "\n",
    "filter_size3 = 2          \n",
    "num_filters3 = 128      \n",
    "fc_size = 500 "
   ]
  },
  {
   "cell_type": "code",
   "execution_count": 23,
   "metadata": {},
   "outputs": [],
   "source": [
    "layer_conv1, weights_conv1 = \\\n",
    "    new_conv_layer(input=x_image,\n",
    "                   num_input_channels=num_channels,\n",
    "                   filter_size=filter_size1,\n",
    "                   num_filters=num_filters1,\n",
    "                   use_pooling=True,\n",
    "                   use_dropout=False)\n",
    "    \n",
    "layer_conv2, weights_conv2 = \\\n",
    "    new_conv_layer(input=layer_conv1,\n",
    "                   num_input_channels=num_filters1,\n",
    "                   filter_size=filter_size2,\n",
    "                   num_filters=num_filters2,\n",
    "                   use_pooling=True,\n",
    "                   use_dropout=False)\n",
    "    \n",
    "layer_conv3, weights_conv3 = \\\n",
    "    new_conv_layer(input=layer_conv2,\n",
    "                   num_input_channels=num_filters2,\n",
    "                   filter_size=filter_size3,\n",
    "                   num_filters=num_filters3,\n",
    "                   use_pooling=True,\n",
    "                   use_dropout=True)"
   ]
  },
  {
   "cell_type": "code",
   "execution_count": 24,
   "metadata": {},
   "outputs": [],
   "source": [
    "layer_flat, num_features = flatten_layer(layer_conv3)"
   ]
  },
  {
   "cell_type": "code",
   "execution_count": 25,
   "metadata": {},
   "outputs": [
    {
     "data": {
      "text/plain": [
       "<tf.Tensor 'dropout_1/mul:0' shape=(?, 500) dtype=float32>"
      ]
     },
     "execution_count": 25,
     "metadata": {},
     "output_type": "execute_result"
    }
   ],
   "source": [
    "layer_fc1 = new_fc_layer(input=layer_flat,\n",
    "                         num_inputs=num_features,\n",
    "                         num_outputs=fc_size,\n",
    "                         use_relu=True,\n",
    "                         use_dropout=True)\n",
    "\n",
    "layer_fc1"
   ]
  },
  {
   "cell_type": "code",
   "execution_count": 26,
   "metadata": {},
   "outputs": [
    {
     "data": {
      "text/plain": [
       "<tf.Tensor 'add_4:0' shape=(?, 120) dtype=float32>"
      ]
     },
     "execution_count": 26,
     "metadata": {},
     "output_type": "execute_result"
    }
   ],
   "source": [
    "layer_fc2 = new_fc_layer(input=layer_fc1,\n",
    "                         num_inputs=fc_size,\n",
    "                         num_outputs=num_classes,\n",
    "                         use_relu=False,\n",
    "                         use_dropout=False)\n",
    "\n",
    "layer_fc2"
   ]
  },
  {
   "cell_type": "code",
   "execution_count": 27,
   "metadata": {},
   "outputs": [],
   "source": [
    "y_pred = tf.nn.softmax(layer_fc2)\n",
    "y_pred_cls = tf.argmax(y_pred, axis=1)"
   ]
  },
  {
   "cell_type": "code",
   "execution_count": 29,
   "metadata": {},
   "outputs": [],
   "source": [
    "cross_entropy = tf.nn.softmax_cross_entropy_with_logits(logits=layer_fc2,\n",
    "                                                        labels=y_true)\n",
    "cost = tf.reduce_mean(cross_entropy)\n",
    "\n",
    "optimizer = tf.train.AdamOptimizer(learning_rate=1e-4).minimize(cost)\n",
    "correct_prediction = tf.equal(y_pred_cls, y_true_cls)\n",
    "accuracy = tf.reduce_mean(tf.cast(correct_prediction, tf.float32))"
   ]
  },
  {
   "cell_type": "code",
   "execution_count": 30,
   "metadata": {},
   "outputs": [],
   "source": [
    "session = tf.Session()\n",
    "\n",
    "def init_variables():\n",
    "    session.run(tf.global_variables_initializer())"
   ]
  },
  {
   "cell_type": "code",
   "execution_count": 31,
   "metadata": {},
   "outputs": [],
   "source": [
    "batch_size = 50\n",
    "\n",
    "#function next_batch\n",
    "def next_batch(num, data, labels):\n",
    "    '''\n",
    "    Return a total of `num` random samples and labels. \n",
    "    '''\n",
    "    idx = np.arange(0 , len(data))\n",
    "    np.random.shuffle(idx)\n",
    "    idx = idx[:num]\n",
    "    data_shuffle = [data[i] for i in idx]\n",
    "    labels_shuffle = [labels[i] for i in idx]\n",
    "\n",
    "    return np.asarray(data_shuffle), np.asarray(labels_shuffle)"
   ]
  },
  {
   "cell_type": "code",
   "execution_count": 32,
   "metadata": {},
   "outputs": [],
   "source": [
    "def optimize(num_iterations, X):\n",
    "    global total_iterations\n",
    "    \n",
    "    start_time = time.time()\n",
    "    \n",
    "    losses = {'train':[], 'validation':[]}\n",
    "    \n",
    "    for i in range(num_iterations):\n",
    "            total_iterations += 1\n",
    "            x_batch, y_true_batch = next_batch(batch_size, X_train, y_train)\n",
    "            feed_dict_train = {x: x_batch,\n",
    "                               y_true: y_true_batch,\n",
    "                               keep_prob_conv : 0.3,\n",
    "                               keep_prob_fc : 0.4}\n",
    "            feed_dict_validation = {x: X_validation,\n",
    "                               y_true: y_validation,\n",
    "                               keep_prob_conv : 1,\n",
    "                               keep_prob_fc : 1}\n",
    "            session.run(optimizer, feed_dict=feed_dict_train)\n",
    "            \n",
    "            acc_train = session.run(accuracy, feed_dict=feed_dict_train)\n",
    "            acc_validation = session.run(accuracy, feed_dict=feed_dict_validation)\n",
    "            losses['train'].append(acc_train)\n",
    "            losses['validation'].append(acc_validation)\n",
    "            \n",
    "            if (total_iterations % X == 0) or (i ==(num_iterations -1)):\n",
    "                                \n",
    "                msg = \"Iteration: {0:>6}, Training Accuracy: {1:>6.1%}, Validation Accuracy: {2:>6.1%}\"\n",
    "                print(msg.format(total_iterations, acc_train, acc_validation))\n",
    "                \n",
    "    end_time = time.time()\n",
    "\n",
    "    time_dif = end_time - start_time\n",
    "\n",
    "    print(\"Time usage: \" + str(timedelta(seconds=int(round(time_dif)))))\n",
    "    \n",
    "    plt.plot(losses['train'], label='Training loss')\n",
    "    plt.plot(losses['validation'], label='Validation loss')\n",
    "    plt.legend()\n",
    "    _ = plt.ylim()"
   ]
  },
  {
   "cell_type": "code",
   "execution_count": 33,
   "metadata": {},
   "outputs": [],
   "source": [
    "init_variables()\n",
    "total_iterations = 0"
   ]
  },
  {
   "cell_type": "code",
   "execution_count": 34,
   "metadata": {},
   "outputs": [
    {
     "name": "stdout",
     "output_type": "stream",
     "text": [
      "Iteration:    250, Training Accuracy:   0.0%, Validation Accuracy:   0.7%\n",
      "Iteration:    500, Training Accuracy:   0.0%, Validation Accuracy:   1.1%\n",
      "Iteration:    750, Training Accuracy:   2.0%, Validation Accuracy:   1.1%\n",
      "Iteration:   1000, Training Accuracy:   2.0%, Validation Accuracy:   1.3%\n"
     ]
    },
    {
     "ename": "KeyboardInterrupt",
     "evalue": "",
     "output_type": "error",
     "traceback": [
      "\u001b[0;31m\u001b[0m",
      "\u001b[0;31mKeyboardInterrupt\u001b[0mTraceback (most recent call last)",
      "\u001b[0;32m<ipython-input-34-d4bd99903956>\u001b[0m in \u001b[0;36m<module>\u001b[0;34m()\u001b[0m\n\u001b[0;32m----> 1\u001b[0;31m \u001b[0moptimize\u001b[0m\u001b[0;34m(\u001b[0m\u001b[0mnum_iterations\u001b[0m\u001b[0;34m=\u001b[0m\u001b[0;36m3000\u001b[0m\u001b[0;34m,\u001b[0m \u001b[0mX\u001b[0m\u001b[0;34m=\u001b[0m\u001b[0;36m250\u001b[0m\u001b[0;34m)\u001b[0m\u001b[0;34m\u001b[0m\u001b[0m\n\u001b[0m",
      "\u001b[0;32m<ipython-input-32-571ad914cb17>\u001b[0m in \u001b[0;36moptimize\u001b[0;34m(num_iterations, X)\u001b[0m\n\u001b[1;32m     31\u001b[0m \u001b[0;34m\u001b[0m\u001b[0m\n\u001b[1;32m     32\u001b[0m             \u001b[0macc_train\u001b[0m \u001b[0;34m=\u001b[0m \u001b[0msession\u001b[0m\u001b[0;34m.\u001b[0m\u001b[0mrun\u001b[0m\u001b[0;34m(\u001b[0m\u001b[0maccuracy\u001b[0m\u001b[0;34m,\u001b[0m \u001b[0mfeed_dict\u001b[0m\u001b[0;34m=\u001b[0m\u001b[0mfeed_dict_train\u001b[0m\u001b[0;34m)\u001b[0m\u001b[0;34m\u001b[0m\u001b[0m\n\u001b[0;32m---> 33\u001b[0;31m             \u001b[0macc_validation\u001b[0m \u001b[0;34m=\u001b[0m \u001b[0msession\u001b[0m\u001b[0;34m.\u001b[0m\u001b[0mrun\u001b[0m\u001b[0;34m(\u001b[0m\u001b[0maccuracy\u001b[0m\u001b[0;34m,\u001b[0m \u001b[0mfeed_dict\u001b[0m\u001b[0;34m=\u001b[0m\u001b[0mfeed_dict_validation\u001b[0m\u001b[0;34m)\u001b[0m\u001b[0;34m\u001b[0m\u001b[0m\n\u001b[0m\u001b[1;32m     34\u001b[0m             \u001b[0mlosses\u001b[0m\u001b[0;34m[\u001b[0m\u001b[0;34m'train'\u001b[0m\u001b[0;34m]\u001b[0m\u001b[0;34m.\u001b[0m\u001b[0mappend\u001b[0m\u001b[0;34m(\u001b[0m\u001b[0macc_train\u001b[0m\u001b[0;34m)\u001b[0m\u001b[0;34m\u001b[0m\u001b[0m\n\u001b[1;32m     35\u001b[0m             \u001b[0mlosses\u001b[0m\u001b[0;34m[\u001b[0m\u001b[0;34m'validation'\u001b[0m\u001b[0;34m]\u001b[0m\u001b[0;34m.\u001b[0m\u001b[0mappend\u001b[0m\u001b[0;34m(\u001b[0m\u001b[0macc_validation\u001b[0m\u001b[0;34m)\u001b[0m\u001b[0;34m\u001b[0m\u001b[0m\n",
      "\u001b[0;32m/home/koushik/anaconda2/lib/python2.7/site-packages/tensorflow/python/client/session.pyc\u001b[0m in \u001b[0;36mrun\u001b[0;34m(self, fetches, feed_dict, options, run_metadata)\u001b[0m\n\u001b[1;32m    898\u001b[0m     \u001b[0;32mtry\u001b[0m\u001b[0;34m:\u001b[0m\u001b[0;34m\u001b[0m\u001b[0m\n\u001b[1;32m    899\u001b[0m       result = self._run(None, fetches, feed_dict, options_ptr,\n\u001b[0;32m--> 900\u001b[0;31m                          run_metadata_ptr)\n\u001b[0m\u001b[1;32m    901\u001b[0m       \u001b[0;32mif\u001b[0m \u001b[0mrun_metadata\u001b[0m\u001b[0;34m:\u001b[0m\u001b[0;34m\u001b[0m\u001b[0m\n\u001b[1;32m    902\u001b[0m         \u001b[0mproto_data\u001b[0m \u001b[0;34m=\u001b[0m \u001b[0mtf_session\u001b[0m\u001b[0;34m.\u001b[0m\u001b[0mTF_GetBuffer\u001b[0m\u001b[0;34m(\u001b[0m\u001b[0mrun_metadata_ptr\u001b[0m\u001b[0;34m)\u001b[0m\u001b[0;34m\u001b[0m\u001b[0m\n",
      "\u001b[0;32m/home/koushik/anaconda2/lib/python2.7/site-packages/tensorflow/python/client/session.pyc\u001b[0m in \u001b[0;36m_run\u001b[0;34m(self, handle, fetches, feed_dict, options, run_metadata)\u001b[0m\n\u001b[1;32m   1133\u001b[0m     \u001b[0;32mif\u001b[0m \u001b[0mfinal_fetches\u001b[0m \u001b[0;32mor\u001b[0m \u001b[0mfinal_targets\u001b[0m \u001b[0;32mor\u001b[0m \u001b[0;34m(\u001b[0m\u001b[0mhandle\u001b[0m \u001b[0;32mand\u001b[0m \u001b[0mfeed_dict_tensor\u001b[0m\u001b[0;34m)\u001b[0m\u001b[0;34m:\u001b[0m\u001b[0;34m\u001b[0m\u001b[0m\n\u001b[1;32m   1134\u001b[0m       results = self._do_run(handle, final_targets, final_fetches,\n\u001b[0;32m-> 1135\u001b[0;31m                              feed_dict_tensor, options, run_metadata)\n\u001b[0m\u001b[1;32m   1136\u001b[0m     \u001b[0;32melse\u001b[0m\u001b[0;34m:\u001b[0m\u001b[0;34m\u001b[0m\u001b[0m\n\u001b[1;32m   1137\u001b[0m       \u001b[0mresults\u001b[0m \u001b[0;34m=\u001b[0m \u001b[0;34m[\u001b[0m\u001b[0;34m]\u001b[0m\u001b[0;34m\u001b[0m\u001b[0m\n",
      "\u001b[0;32m/home/koushik/anaconda2/lib/python2.7/site-packages/tensorflow/python/client/session.pyc\u001b[0m in \u001b[0;36m_do_run\u001b[0;34m(self, handle, target_list, fetch_list, feed_dict, options, run_metadata)\u001b[0m\n\u001b[1;32m   1314\u001b[0m     \u001b[0;32mif\u001b[0m \u001b[0mhandle\u001b[0m \u001b[0;32mis\u001b[0m \u001b[0mNone\u001b[0m\u001b[0;34m:\u001b[0m\u001b[0;34m\u001b[0m\u001b[0m\n\u001b[1;32m   1315\u001b[0m       return self._do_call(_run_fn, feeds, fetches, targets, options,\n\u001b[0;32m-> 1316\u001b[0;31m                            run_metadata)\n\u001b[0m\u001b[1;32m   1317\u001b[0m     \u001b[0;32melse\u001b[0m\u001b[0;34m:\u001b[0m\u001b[0;34m\u001b[0m\u001b[0m\n\u001b[1;32m   1318\u001b[0m       \u001b[0;32mreturn\u001b[0m \u001b[0mself\u001b[0m\u001b[0;34m.\u001b[0m\u001b[0m_do_call\u001b[0m\u001b[0;34m(\u001b[0m\u001b[0m_prun_fn\u001b[0m\u001b[0;34m,\u001b[0m \u001b[0mhandle\u001b[0m\u001b[0;34m,\u001b[0m \u001b[0mfeeds\u001b[0m\u001b[0;34m,\u001b[0m \u001b[0mfetches\u001b[0m\u001b[0;34m)\u001b[0m\u001b[0;34m\u001b[0m\u001b[0m\n",
      "\u001b[0;32m/home/koushik/anaconda2/lib/python2.7/site-packages/tensorflow/python/client/session.pyc\u001b[0m in \u001b[0;36m_do_call\u001b[0;34m(self, fn, *args)\u001b[0m\n\u001b[1;32m   1320\u001b[0m   \u001b[0;32mdef\u001b[0m \u001b[0m_do_call\u001b[0m\u001b[0;34m(\u001b[0m\u001b[0mself\u001b[0m\u001b[0;34m,\u001b[0m \u001b[0mfn\u001b[0m\u001b[0;34m,\u001b[0m \u001b[0;34m*\u001b[0m\u001b[0margs\u001b[0m\u001b[0;34m)\u001b[0m\u001b[0;34m:\u001b[0m\u001b[0;34m\u001b[0m\u001b[0m\n\u001b[1;32m   1321\u001b[0m     \u001b[0;32mtry\u001b[0m\u001b[0;34m:\u001b[0m\u001b[0;34m\u001b[0m\u001b[0m\n\u001b[0;32m-> 1322\u001b[0;31m       \u001b[0;32mreturn\u001b[0m \u001b[0mfn\u001b[0m\u001b[0;34m(\u001b[0m\u001b[0;34m*\u001b[0m\u001b[0margs\u001b[0m\u001b[0;34m)\u001b[0m\u001b[0;34m\u001b[0m\u001b[0m\n\u001b[0m\u001b[1;32m   1323\u001b[0m     \u001b[0;32mexcept\u001b[0m \u001b[0merrors\u001b[0m\u001b[0;34m.\u001b[0m\u001b[0mOpError\u001b[0m \u001b[0;32mas\u001b[0m \u001b[0me\u001b[0m\u001b[0;34m:\u001b[0m\u001b[0;34m\u001b[0m\u001b[0m\n\u001b[1;32m   1324\u001b[0m       \u001b[0mmessage\u001b[0m \u001b[0;34m=\u001b[0m \u001b[0mcompat\u001b[0m\u001b[0;34m.\u001b[0m\u001b[0mas_text\u001b[0m\u001b[0;34m(\u001b[0m\u001b[0me\u001b[0m\u001b[0;34m.\u001b[0m\u001b[0mmessage\u001b[0m\u001b[0;34m)\u001b[0m\u001b[0;34m\u001b[0m\u001b[0m\n",
      "\u001b[0;32m/home/koushik/anaconda2/lib/python2.7/site-packages/tensorflow/python/client/session.pyc\u001b[0m in \u001b[0;36m_run_fn\u001b[0;34m(feed_dict, fetch_list, target_list, options, run_metadata)\u001b[0m\n\u001b[1;32m   1305\u001b[0m       \u001b[0mself\u001b[0m\u001b[0;34m.\u001b[0m\u001b[0m_extend_graph\u001b[0m\u001b[0;34m(\u001b[0m\u001b[0;34m)\u001b[0m\u001b[0;34m\u001b[0m\u001b[0m\n\u001b[1;32m   1306\u001b[0m       return self._call_tf_sessionrun(\n\u001b[0;32m-> 1307\u001b[0;31m           options, feed_dict, fetch_list, target_list, run_metadata)\n\u001b[0m\u001b[1;32m   1308\u001b[0m \u001b[0;34m\u001b[0m\u001b[0m\n\u001b[1;32m   1309\u001b[0m     \u001b[0;32mdef\u001b[0m \u001b[0m_prun_fn\u001b[0m\u001b[0;34m(\u001b[0m\u001b[0mhandle\u001b[0m\u001b[0;34m,\u001b[0m \u001b[0mfeed_dict\u001b[0m\u001b[0;34m,\u001b[0m \u001b[0mfetch_list\u001b[0m\u001b[0;34m)\u001b[0m\u001b[0;34m:\u001b[0m\u001b[0;34m\u001b[0m\u001b[0m\n",
      "\u001b[0;32m/home/koushik/anaconda2/lib/python2.7/site-packages/tensorflow/python/client/session.pyc\u001b[0m in \u001b[0;36m_call_tf_sessionrun\u001b[0;34m(self, options, feed_dict, fetch_list, target_list, run_metadata)\u001b[0m\n\u001b[1;32m   1407\u001b[0m       return tf_session.TF_SessionRun_wrapper(\n\u001b[1;32m   1408\u001b[0m           \u001b[0mself\u001b[0m\u001b[0;34m.\u001b[0m\u001b[0m_session\u001b[0m\u001b[0;34m,\u001b[0m \u001b[0moptions\u001b[0m\u001b[0;34m,\u001b[0m \u001b[0mfeed_dict\u001b[0m\u001b[0;34m,\u001b[0m \u001b[0mfetch_list\u001b[0m\u001b[0;34m,\u001b[0m \u001b[0mtarget_list\u001b[0m\u001b[0;34m,\u001b[0m\u001b[0;34m\u001b[0m\u001b[0m\n\u001b[0;32m-> 1409\u001b[0;31m           run_metadata)\n\u001b[0m\u001b[1;32m   1410\u001b[0m     \u001b[0;32melse\u001b[0m\u001b[0;34m:\u001b[0m\u001b[0;34m\u001b[0m\u001b[0m\n\u001b[1;32m   1411\u001b[0m       \u001b[0;32mwith\u001b[0m \u001b[0merrors\u001b[0m\u001b[0;34m.\u001b[0m\u001b[0mraise_exception_on_not_ok_status\u001b[0m\u001b[0;34m(\u001b[0m\u001b[0;34m)\u001b[0m \u001b[0;32mas\u001b[0m \u001b[0mstatus\u001b[0m\u001b[0;34m:\u001b[0m\u001b[0;34m\u001b[0m\u001b[0m\n",
      "\u001b[0;31mKeyboardInterrupt\u001b[0m: "
     ]
    }
   ],
   "source": [
    "optimize(num_iterations=3000, X=250)"
   ]
  },
  {
   "cell_type": "code",
   "execution_count": 42,
   "metadata": {},
   "outputs": [
    {
     "name": "stdout",
     "output_type": "stream",
     "text": [
      "Iteration:   3050, Training Accuracy:   0.0%, Validation Accuracy:   2.4%\n",
      "Iteration:   3100, Training Accuracy:   0.0%, Validation Accuracy:   2.4%\n",
      "Iteration:   3150, Training Accuracy:   4.0%, Validation Accuracy:   2.6%\n",
      "Iteration:   3200, Training Accuracy:   0.0%, Validation Accuracy:   2.4%\n",
      "Iteration:   3250, Training Accuracy:   2.0%, Validation Accuracy:   2.4%\n",
      "Iteration:   3300, Training Accuracy:   6.0%, Validation Accuracy:   2.6%\n",
      "Iteration:   3350, Training Accuracy:   4.0%, Validation Accuracy:   3.1%\n",
      "Iteration:   3400, Training Accuracy:   4.0%, Validation Accuracy:   2.8%\n",
      "Iteration:   3450, Training Accuracy:   2.0%, Validation Accuracy:   3.0%\n",
      "Iteration:   3500, Training Accuracy:   0.0%, Validation Accuracy:   2.7%\n",
      "Iteration:   3550, Training Accuracy:   4.0%, Validation Accuracy:   3.0%\n",
      "Iteration:   3600, Training Accuracy:   0.0%, Validation Accuracy:   2.8%\n",
      "Iteration:   3650, Training Accuracy:   0.0%, Validation Accuracy:   2.8%\n",
      "Iteration:   3700, Training Accuracy:   4.0%, Validation Accuracy:   2.8%\n",
      "Iteration:   3750, Training Accuracy:   0.0%, Validation Accuracy:   2.9%\n",
      "Iteration:   3800, Training Accuracy:   2.0%, Validation Accuracy:   3.1%\n",
      "Iteration:   3850, Training Accuracy:   0.0%, Validation Accuracy:   3.2%\n",
      "Iteration:   3900, Training Accuracy:   4.0%, Validation Accuracy:   3.0%\n",
      "Iteration:   3950, Training Accuracy:   2.0%, Validation Accuracy:   2.8%\n",
      "Iteration:   4000, Training Accuracy:   4.0%, Validation Accuracy:   3.0%\n",
      "Iteration:   4050, Training Accuracy:   0.0%, Validation Accuracy:   3.1%\n",
      "Iteration:   4100, Training Accuracy:   8.0%, Validation Accuracy:   3.1%\n",
      "Iteration:   4150, Training Accuracy:   4.0%, Validation Accuracy:   2.9%\n",
      "Iteration:   4200, Training Accuracy:   2.0%, Validation Accuracy:   3.1%\n",
      "Iteration:   4250, Training Accuracy:   4.0%, Validation Accuracy:   3.1%\n",
      "Iteration:   4300, Training Accuracy:   6.0%, Validation Accuracy:   3.0%\n",
      "Iteration:   4350, Training Accuracy:   2.0%, Validation Accuracy:   3.2%\n",
      "Iteration:   4400, Training Accuracy:   0.0%, Validation Accuracy:   2.9%\n",
      "Iteration:   4450, Training Accuracy:   2.0%, Validation Accuracy:   3.0%\n",
      "Iteration:   4500, Training Accuracy:   0.0%, Validation Accuracy:   3.0%\n",
      "Iteration:   4550, Training Accuracy:   4.0%, Validation Accuracy:   3.1%\n",
      "Iteration:   4600, Training Accuracy:  10.0%, Validation Accuracy:   3.1%\n",
      "Iteration:   4650, Training Accuracy:   2.0%, Validation Accuracy:   2.9%\n",
      "Iteration:   4700, Training Accuracy:   2.0%, Validation Accuracy:   3.0%\n",
      "Iteration:   4750, Training Accuracy:   8.0%, Validation Accuracy:   3.2%\n",
      "Iteration:   4800, Training Accuracy:   2.0%, Validation Accuracy:   3.3%\n",
      "Iteration:   4850, Training Accuracy:   8.0%, Validation Accuracy:   3.3%\n",
      "Iteration:   4900, Training Accuracy:   0.0%, Validation Accuracy:   3.4%\n",
      "Iteration:   4950, Training Accuracy:   0.0%, Validation Accuracy:   3.4%\n",
      "Iteration:   5000, Training Accuracy:   0.0%, Validation Accuracy:   3.4%\n",
      "Iteration:   5050, Training Accuracy:   4.0%, Validation Accuracy:   3.5%\n",
      "Iteration:   5100, Training Accuracy:   2.0%, Validation Accuracy:   3.6%\n",
      "Iteration:   5150, Training Accuracy:   2.0%, Validation Accuracy:   3.4%\n",
      "Iteration:   5200, Training Accuracy:   0.0%, Validation Accuracy:   3.5%\n",
      "Iteration:   5250, Training Accuracy:   2.0%, Validation Accuracy:   3.4%\n",
      "Iteration:   5300, Training Accuracy:   2.0%, Validation Accuracy:   3.8%\n",
      "Iteration:   5350, Training Accuracy:   4.0%, Validation Accuracy:   3.7%\n",
      "Iteration:   5400, Training Accuracy:   2.0%, Validation Accuracy:   3.3%\n",
      "Iteration:   5450, Training Accuracy:   0.0%, Validation Accuracy:   3.6%\n",
      "Iteration:   5500, Training Accuracy:   6.0%, Validation Accuracy:   3.7%\n",
      "Iteration:   5550, Training Accuracy:   4.0%, Validation Accuracy:   3.9%\n",
      "Iteration:   5600, Training Accuracy:   4.0%, Validation Accuracy:   3.8%\n",
      "Iteration:   5650, Training Accuracy:   6.0%, Validation Accuracy:   4.0%\n",
      "Iteration:   5700, Training Accuracy:  12.0%, Validation Accuracy:   3.7%\n",
      "Iteration:   5750, Training Accuracy:   6.0%, Validation Accuracy:   3.8%\n",
      "Iteration:   5800, Training Accuracy:   0.0%, Validation Accuracy:   3.7%\n",
      "Iteration:   5850, Training Accuracy:   2.0%, Validation Accuracy:   3.7%\n",
      "Iteration:   5900, Training Accuracy:   4.0%, Validation Accuracy:   3.2%\n",
      "Iteration:   5950, Training Accuracy:  12.0%, Validation Accuracy:   3.6%\n",
      "Iteration:   6000, Training Accuracy:   4.0%, Validation Accuracy:   3.4%\n",
      "Time usage: 0:21:01\n"
     ]
    },
    {
     "data": {
      "image/png": "[encoded data removed]",
      "text/plain": [
       "<matplotlib.figure.Figure at 0x7fab87f71390>"
      ]
     },
     "metadata": {},
     "output_type": "display_data"
    }
   ],
   "source": [
    "optimize(num_iterations=3000, X=50)\n",
    "\n",
    "#### My image size is very low i.e 20 x 20 as i couldnt takke a better size as my system was hanging."
   ]
  },
  {
   "cell_type": "code",
   "execution_count": 43,
   "metadata": {},
   "outputs": [
    {
     "name": "stdout",
     "output_type": "stream",
     "text": [
      "Iteration:   6050, Training Accuracy:   4.0%, Validation Accuracy:   3.6%\n",
      "Iteration:   6100, Training Accuracy:   6.0%, Validation Accuracy:   3.7%\n",
      "Iteration:   6150, Training Accuracy:  12.0%, Validation Accuracy:   3.5%\n",
      "Iteration:   6200, Training Accuracy:   2.0%, Validation Accuracy:   3.9%\n",
      "Iteration:   6250, Training Accuracy:   4.0%, Validation Accuracy:   3.7%\n",
      "Iteration:   6300, Training Accuracy:   2.0%, Validation Accuracy:   3.8%\n",
      "Iteration:   6350, Training Accuracy:   4.0%, Validation Accuracy:   4.0%\n",
      "Iteration:   6400, Training Accuracy:   4.0%, Validation Accuracy:   3.9%\n",
      "Iteration:   6450, Training Accuracy:   4.0%, Validation Accuracy:   3.9%\n",
      "Iteration:   6500, Training Accuracy:   2.0%, Validation Accuracy:   3.9%\n",
      "Iteration:   6550, Training Accuracy:   6.0%, Validation Accuracy:   4.0%\n",
      "Iteration:   6600, Training Accuracy:   2.0%, Validation Accuracy:   3.7%\n",
      "Iteration:   6650, Training Accuracy:   4.0%, Validation Accuracy:   4.1%\n",
      "Iteration:   6700, Training Accuracy:   0.0%, Validation Accuracy:   4.0%\n",
      "Iteration:   6750, Training Accuracy:   4.0%, Validation Accuracy:   3.8%\n",
      "Iteration:   6800, Training Accuracy:   8.0%, Validation Accuracy:   3.8%\n",
      "Iteration:   6850, Training Accuracy:   4.0%, Validation Accuracy:   3.9%\n",
      "Iteration:   6900, Training Accuracy:   6.0%, Validation Accuracy:   4.3%\n",
      "Iteration:   6950, Training Accuracy:   6.0%, Validation Accuracy:   4.0%\n",
      "Iteration:   7000, Training Accuracy:   4.0%, Validation Accuracy:   4.0%\n",
      "Iteration:   7050, Training Accuracy:   0.0%, Validation Accuracy:   4.4%\n",
      "Iteration:   7100, Training Accuracy:   0.0%, Validation Accuracy:   4.3%\n",
      "Iteration:   7150, Training Accuracy:   6.0%, Validation Accuracy:   4.3%\n",
      "Iteration:   7200, Training Accuracy:   8.0%, Validation Accuracy:   4.4%\n",
      "Iteration:   7250, Training Accuracy:   0.0%, Validation Accuracy:   4.2%\n",
      "Iteration:   7300, Training Accuracy:   2.0%, Validation Accuracy:   4.3%\n",
      "Iteration:   7350, Training Accuracy:  12.0%, Validation Accuracy:   4.2%\n",
      "Iteration:   7400, Training Accuracy:   2.0%, Validation Accuracy:   4.4%\n",
      "Iteration:   7450, Training Accuracy:   6.0%, Validation Accuracy:   4.5%\n",
      "Iteration:   7500, Training Accuracy:   0.0%, Validation Accuracy:   4.5%\n",
      "Iteration:   7550, Training Accuracy:   4.0%, Validation Accuracy:   4.4%\n",
      "Iteration:   7600, Training Accuracy:   6.0%, Validation Accuracy:   4.7%\n",
      "Iteration:   7650, Training Accuracy:   4.0%, Validation Accuracy:   4.5%\n",
      "Iteration:   7700, Training Accuracy:   4.0%, Validation Accuracy:   4.6%\n",
      "Iteration:   7750, Training Accuracy:   4.0%, Validation Accuracy:   4.8%\n",
      "Iteration:   7800, Training Accuracy:   8.0%, Validation Accuracy:   4.4%\n",
      "Iteration:   7850, Training Accuracy:   4.0%, Validation Accuracy:   4.5%\n",
      "Iteration:   7900, Training Accuracy:   2.0%, Validation Accuracy:   4.5%\n",
      "Iteration:   7950, Training Accuracy:  10.0%, Validation Accuracy:   4.7%\n",
      "Iteration:   8000, Training Accuracy:   4.0%, Validation Accuracy:   4.9%\n",
      "Iteration:   8050, Training Accuracy:   6.0%, Validation Accuracy:   4.6%\n",
      "Iteration:   8100, Training Accuracy:   8.0%, Validation Accuracy:   4.1%\n",
      "Iteration:   8150, Training Accuracy:   8.0%, Validation Accuracy:   4.7%\n",
      "Iteration:   8200, Training Accuracy:  10.0%, Validation Accuracy:   4.7%\n",
      "Iteration:   8250, Training Accuracy:   2.0%, Validation Accuracy:   4.4%\n",
      "Iteration:   8300, Training Accuracy:   0.0%, Validation Accuracy:   4.5%\n",
      "Iteration:   8350, Training Accuracy:   2.0%, Validation Accuracy:   4.5%\n",
      "Iteration:   8400, Training Accuracy:   4.0%, Validation Accuracy:   4.7%\n",
      "Iteration:   8450, Training Accuracy:  10.0%, Validation Accuracy:   4.6%\n",
      "Iteration:   8500, Training Accuracy:   6.0%, Validation Accuracy:   4.7%\n",
      "Iteration:   8550, Training Accuracy:   0.0%, Validation Accuracy:   4.8%\n",
      "Iteration:   8600, Training Accuracy:   8.0%, Validation Accuracy:   4.7%\n",
      "Iteration:   8650, Training Accuracy:   4.0%, Validation Accuracy:   4.8%\n",
      "Iteration:   8700, Training Accuracy:   4.0%, Validation Accuracy:   4.8%\n",
      "Iteration:   8750, Training Accuracy:  12.0%, Validation Accuracy:   5.0%\n",
      "Iteration:   8800, Training Accuracy:   6.0%, Validation Accuracy:   5.0%\n",
      "Iteration:   8850, Training Accuracy:   6.0%, Validation Accuracy:   4.9%\n",
      "Iteration:   8900, Training Accuracy:   2.0%, Validation Accuracy:   5.1%\n",
      "Iteration:   8950, Training Accuracy:   0.0%, Validation Accuracy:   5.0%\n",
      "Iteration:   9000, Training Accuracy:   4.0%, Validation Accuracy:   5.0%\n",
      "Time usage: 0:21:07\n"
     ]
    },
    {
     "data": {
      "image/png": "[encoded data removed]",
      "text/plain": [
       "<matplotlib.figure.Figure at 0x7fab87f7da50>"
      ]
     },
     "metadata": {},
     "output_type": "display_data"
    }
   ],
   "source": [
    "optimize(num_iterations=3000, X=50)"
   ]
  },
  {
   "cell_type": "code",
   "execution_count": 44,
   "metadata": {},
   "outputs": [
    {
     "name": "stdout",
     "output_type": "stream",
     "text": [
      "Iteration:   9050, Training Accuracy:   4.0%, Validation Accuracy:   4.9%\n",
      "Iteration:   9100, Training Accuracy:   4.0%, Validation Accuracy:   5.1%\n",
      "Iteration:   9150, Training Accuracy:  14.0%, Validation Accuracy:   5.2%\n",
      "Iteration:   9200, Training Accuracy:   4.0%, Validation Accuracy:   5.3%\n",
      "Iteration:   9250, Training Accuracy:   2.0%, Validation Accuracy:   5.4%\n",
      "Iteration:   9300, Training Accuracy:   0.0%, Validation Accuracy:   5.7%\n",
      "Iteration:   9350, Training Accuracy:  14.0%, Validation Accuracy:   5.2%\n",
      "Iteration:   9400, Training Accuracy:   4.0%, Validation Accuracy:   5.2%\n",
      "Iteration:   9450, Training Accuracy:   6.0%, Validation Accuracy:   5.3%\n",
      "Iteration:   9500, Training Accuracy:   2.0%, Validation Accuracy:   5.0%\n",
      "Iteration:   9550, Training Accuracy:   6.0%, Validation Accuracy:   5.1%\n",
      "Iteration:   9600, Training Accuracy:   6.0%, Validation Accuracy:   5.0%\n",
      "Iteration:   9650, Training Accuracy:  12.0%, Validation Accuracy:   5.3%\n",
      "Iteration:   9700, Training Accuracy:   8.0%, Validation Accuracy:   5.1%\n",
      "Iteration:   9750, Training Accuracy:   6.0%, Validation Accuracy:   5.2%\n",
      "Iteration:   9800, Training Accuracy:  10.0%, Validation Accuracy:   5.2%\n",
      "Iteration:   9850, Training Accuracy:   6.0%, Validation Accuracy:   5.2%\n",
      "Iteration:   9900, Training Accuracy:   6.0%, Validation Accuracy:   5.0%\n",
      "Iteration:   9950, Training Accuracy:   8.0%, Validation Accuracy:   5.5%\n",
      "Iteration:  10000, Training Accuracy:   0.0%, Validation Accuracy:   5.4%\n",
      "Iteration:  10050, Training Accuracy:   8.0%, Validation Accuracy:   5.3%\n",
      "Iteration:  10100, Training Accuracy:   6.0%, Validation Accuracy:   5.7%\n",
      "Iteration:  10150, Training Accuracy:  10.0%, Validation Accuracy:   5.4%\n",
      "Iteration:  10200, Training Accuracy:   4.0%, Validation Accuracy:   5.6%\n",
      "Iteration:  10250, Training Accuracy:   8.0%, Validation Accuracy:   5.3%\n",
      "Iteration:  10300, Training Accuracy:   8.0%, Validation Accuracy:   5.3%\n",
      "Iteration:  10350, Training Accuracy:   6.0%, Validation Accuracy:   5.6%\n",
      "Iteration:  10400, Training Accuracy:  10.0%, Validation Accuracy:   5.3%\n",
      "Iteration:  10450, Training Accuracy:   4.0%, Validation Accuracy:   5.8%\n",
      "Iteration:  10500, Training Accuracy:  10.0%, Validation Accuracy:   5.4%\n",
      "Iteration:  10550, Training Accuracy:  12.0%, Validation Accuracy:   5.7%\n",
      "Iteration:  10600, Training Accuracy:   6.0%, Validation Accuracy:   5.4%\n",
      "Iteration:  10650, Training Accuracy:   2.0%, Validation Accuracy:   5.9%\n",
      "Iteration:  10700, Training Accuracy:   4.0%, Validation Accuracy:   5.9%\n",
      "Iteration:  10750, Training Accuracy:   6.0%, Validation Accuracy:   5.7%\n",
      "Iteration:  10800, Training Accuracy:   4.0%, Validation Accuracy:   5.7%\n",
      "Iteration:  10850, Training Accuracy:   6.0%, Validation Accuracy:   5.2%\n",
      "Iteration:  10900, Training Accuracy:   4.0%, Validation Accuracy:   5.4%\n",
      "Iteration:  10950, Training Accuracy:   8.0%, Validation Accuracy:   5.6%\n",
      "Iteration:  11000, Training Accuracy:   8.0%, Validation Accuracy:   5.3%\n",
      "Iteration:  11050, Training Accuracy:   6.0%, Validation Accuracy:   5.7%\n",
      "Iteration:  11100, Training Accuracy:   2.0%, Validation Accuracy:   5.8%\n",
      "Iteration:  11150, Training Accuracy:   8.0%, Validation Accuracy:   5.2%\n",
      "Iteration:  11200, Training Accuracy:   6.0%, Validation Accuracy:   5.6%\n",
      "Iteration:  11250, Training Accuracy:   6.0%, Validation Accuracy:   5.7%\n",
      "Iteration:  11300, Training Accuracy:   4.0%, Validation Accuracy:   5.6%\n",
      "Iteration:  11350, Training Accuracy:   6.0%, Validation Accuracy:   5.9%\n",
      "Iteration:  11400, Training Accuracy:   8.0%, Validation Accuracy:   5.8%\n",
      "Iteration:  11450, Training Accuracy:   8.0%, Validation Accuracy:   5.8%\n",
      "Iteration:  11500, Training Accuracy:   6.0%, Validation Accuracy:   5.8%\n",
      "Iteration:  11550, Training Accuracy:   6.0%, Validation Accuracy:   5.6%\n",
      "Iteration:  11600, Training Accuracy:   4.0%, Validation Accuracy:   5.7%\n",
      "Iteration:  11650, Training Accuracy:   6.0%, Validation Accuracy:   5.8%\n",
      "Iteration:  11700, Training Accuracy:   6.0%, Validation Accuracy:   5.7%\n",
      "Iteration:  11750, Training Accuracy:   8.0%, Validation Accuracy:   6.0%\n",
      "Iteration:  11800, Training Accuracy:  12.0%, Validation Accuracy:   6.2%\n",
      "Iteration:  11850, Training Accuracy:   8.0%, Validation Accuracy:   6.0%\n",
      "Iteration:  11900, Training Accuracy:   6.0%, Validation Accuracy:   6.1%\n",
      "Iteration:  11950, Training Accuracy:   8.0%, Validation Accuracy:   6.2%\n",
      "Iteration:  12000, Training Accuracy:   4.0%, Validation Accuracy:   6.1%\n",
      "Time usage: 0:21:27\n"
     ]
    },
    {
     "data": {
      "image/png": "[encoded data removed]",
      "text/plain": [
       "<matplotlib.figure.Figure at 0x7fab83b14a50>"
      ]
     },
     "metadata": {},
     "output_type": "display_data"
    }
   ],
   "source": [
    "optimize(num_iterations=3000, X=50)"
   ]
  },
  {
   "cell_type": "code",
   "execution_count": 45,
   "metadata": {},
   "outputs": [
    {
     "name": "stdout",
     "output_type": "stream",
     "text": [
      "Iteration:  12050, Training Accuracy:   4.0%, Validation Accuracy:   6.1%\n",
      "Iteration:  12100, Training Accuracy:   6.0%, Validation Accuracy:   5.6%\n",
      "Iteration:  12150, Training Accuracy:   2.0%, Validation Accuracy:   6.1%\n",
      "Iteration:  12200, Training Accuracy:  12.0%, Validation Accuracy:   5.8%\n",
      "Iteration:  12250, Training Accuracy:   4.0%, Validation Accuracy:   6.2%\n",
      "Iteration:  12300, Training Accuracy:   8.0%, Validation Accuracy:   6.3%\n",
      "Iteration:  12350, Training Accuracy:   6.0%, Validation Accuracy:   6.0%\n",
      "Iteration:  12400, Training Accuracy:   2.0%, Validation Accuracy:   6.1%\n",
      "Iteration:  12450, Training Accuracy:  12.0%, Validation Accuracy:   6.1%\n",
      "Iteration:  12500, Training Accuracy:   6.0%, Validation Accuracy:   5.8%\n",
      "Iteration:  12550, Training Accuracy:  10.0%, Validation Accuracy:   6.2%\n",
      "Iteration:  12600, Training Accuracy:   4.0%, Validation Accuracy:   6.1%\n",
      "Iteration:  12650, Training Accuracy:   6.0%, Validation Accuracy:   6.4%\n",
      "Iteration:  12700, Training Accuracy:  16.0%, Validation Accuracy:   6.2%\n",
      "Iteration:  12750, Training Accuracy:   2.0%, Validation Accuracy:   6.2%\n",
      "Iteration:  12800, Training Accuracy:   4.0%, Validation Accuracy:   6.0%\n",
      "Iteration:  12850, Training Accuracy:   4.0%, Validation Accuracy:   6.3%\n",
      "Iteration:  12900, Training Accuracy:   4.0%, Validation Accuracy:   6.2%\n",
      "Iteration:  12950, Training Accuracy:   8.0%, Validation Accuracy:   6.1%\n",
      "Iteration:  13000, Training Accuracy:  12.0%, Validation Accuracy:   6.3%\n",
      "Iteration:  13050, Training Accuracy:   4.0%, Validation Accuracy:   6.2%\n",
      "Iteration:  13100, Training Accuracy:   4.0%, Validation Accuracy:   6.5%\n",
      "Iteration:  13150, Training Accuracy:  10.0%, Validation Accuracy:   6.3%\n",
      "Iteration:  13200, Training Accuracy:   4.0%, Validation Accuracy:   6.4%\n",
      "Iteration:  13250, Training Accuracy:   4.0%, Validation Accuracy:   6.1%\n",
      "Iteration:  13300, Training Accuracy:   4.0%, Validation Accuracy:   6.1%\n",
      "Iteration:  13350, Training Accuracy:  10.0%, Validation Accuracy:   6.0%\n",
      "Iteration:  13400, Training Accuracy:   8.0%, Validation Accuracy:   5.8%\n",
      "Iteration:  13450, Training Accuracy:   8.0%, Validation Accuracy:   6.1%\n",
      "Iteration:  13500, Training Accuracy:  12.0%, Validation Accuracy:   6.3%\n",
      "Iteration:  13550, Training Accuracy:   8.0%, Validation Accuracy:   6.2%\n",
      "Iteration:  13600, Training Accuracy:  12.0%, Validation Accuracy:   6.2%\n",
      "Iteration:  13650, Training Accuracy:  12.0%, Validation Accuracy:   6.5%\n",
      "Iteration:  13700, Training Accuracy:  16.0%, Validation Accuracy:   6.5%\n",
      "Iteration:  13750, Training Accuracy:  12.0%, Validation Accuracy:   6.4%\n",
      "Iteration:  13800, Training Accuracy:  16.0%, Validation Accuracy:   6.6%\n",
      "Iteration:  13850, Training Accuracy:   8.0%, Validation Accuracy:   7.0%\n",
      "Iteration:  13900, Training Accuracy:   6.0%, Validation Accuracy:   6.7%\n",
      "Iteration:  13950, Training Accuracy:   6.0%, Validation Accuracy:   6.9%\n",
      "Iteration:  14000, Training Accuracy:   4.0%, Validation Accuracy:   6.1%\n",
      "Iteration:  14050, Training Accuracy:   2.0%, Validation Accuracy:   6.5%\n",
      "Iteration:  14100, Training Accuracy:  10.0%, Validation Accuracy:   6.6%\n",
      "Iteration:  14150, Training Accuracy:   6.0%, Validation Accuracy:   6.4%\n",
      "Iteration:  14200, Training Accuracy:   4.0%, Validation Accuracy:   6.5%\n",
      "Iteration:  14250, Training Accuracy:   6.0%, Validation Accuracy:   6.5%\n",
      "Iteration:  14300, Training Accuracy:  10.0%, Validation Accuracy:   6.6%\n",
      "Iteration:  14350, Training Accuracy:   6.0%, Validation Accuracy:   6.8%\n",
      "Iteration:  14400, Training Accuracy:   6.0%, Validation Accuracy:   6.8%\n",
      "Iteration:  14450, Training Accuracy:  10.0%, Validation Accuracy:   6.5%\n",
      "Iteration:  14500, Training Accuracy:  12.0%, Validation Accuracy:   6.6%\n",
      "Iteration:  14550, Training Accuracy:  10.0%, Validation Accuracy:   6.7%\n",
      "Iteration:  14600, Training Accuracy:  14.0%, Validation Accuracy:   6.4%\n",
      "Iteration:  14650, Training Accuracy:   6.0%, Validation Accuracy:   6.6%\n",
      "Iteration:  14700, Training Accuracy:  10.0%, Validation Accuracy:   6.8%\n",
      "Iteration:  14750, Training Accuracy:  12.0%, Validation Accuracy:   6.5%\n",
      "Iteration:  14800, Training Accuracy:   8.0%, Validation Accuracy:   6.3%\n",
      "Iteration:  14850, Training Accuracy:   8.0%, Validation Accuracy:   6.4%\n",
      "Iteration:  14900, Training Accuracy:   6.0%, Validation Accuracy:   6.5%\n",
      "Iteration:  14950, Training Accuracy:   8.0%, Validation Accuracy:   6.7%\n",
      "Iteration:  15000, Training Accuracy:  12.0%, Validation Accuracy:   6.7%\n",
      "Time usage: 0:21:10\n"
     ]
    },
    {
     "data": {
      "image/png": "[encoded data removed]",
      "text/plain": [
       "<matplotlib.figure.Figure at 0x7fab83b208d0>"
      ]
     },
     "metadata": {},
     "output_type": "display_data"
    }
   ],
   "source": [
    "optimize(num_iterations=3000, X=50)"
   ]
  },
  {
   "cell_type": "code",
   "execution_count": 51,
   "metadata": {},
   "outputs": [],
   "source": [
    "batch_size=100"
   ]
  },
  {
   "cell_type": "code",
   "execution_count": 52,
   "metadata": {},
   "outputs": [
    {
     "name": "stdout",
     "output_type": "stream",
     "text": [
      "Iteration:  15050, Training Accuracy:   5.0%, Validation Accuracy:   6.6%\n",
      "Iteration:  15100, Training Accuracy:   8.0%, Validation Accuracy:   6.4%\n",
      "Iteration:  15150, Training Accuracy:  10.0%, Validation Accuracy:   6.6%\n",
      "Iteration:  15200, Training Accuracy:  11.0%, Validation Accuracy:   6.7%\n",
      "Iteration:  15250, Training Accuracy:   8.0%, Validation Accuracy:   6.7%\n",
      "Iteration:  15300, Training Accuracy:   7.0%, Validation Accuracy:   6.8%\n",
      "Iteration:  15350, Training Accuracy:   9.0%, Validation Accuracy:   6.7%\n",
      "Iteration:  15400, Training Accuracy:   8.0%, Validation Accuracy:   6.7%\n",
      "Iteration:  15450, Training Accuracy:   7.0%, Validation Accuracy:   6.7%\n",
      "Iteration:  15500, Training Accuracy:   5.0%, Validation Accuracy:   7.0%\n",
      "Iteration:  15550, Training Accuracy:  12.0%, Validation Accuracy:   6.8%\n",
      "Iteration:  15600, Training Accuracy:  11.0%, Validation Accuracy:   6.7%\n",
      "Iteration:  15650, Training Accuracy:   9.0%, Validation Accuracy:   6.8%\n",
      "Iteration:  15700, Training Accuracy:   6.0%, Validation Accuracy:   7.0%\n",
      "Iteration:  15750, Training Accuracy:  13.0%, Validation Accuracy:   6.9%\n",
      "Iteration:  15800, Training Accuracy:  12.0%, Validation Accuracy:   6.8%\n",
      "Iteration:  15850, Training Accuracy:  15.0%, Validation Accuracy:   6.6%\n",
      "Iteration:  15900, Training Accuracy:   8.0%, Validation Accuracy:   6.7%\n",
      "Iteration:  15950, Training Accuracy:  11.0%, Validation Accuracy:   6.9%\n",
      "Iteration:  16000, Training Accuracy:   8.0%, Validation Accuracy:   6.6%\n",
      "Iteration:  16050, Training Accuracy:   8.0%, Validation Accuracy:   7.2%\n",
      "Iteration:  16100, Training Accuracy:   7.0%, Validation Accuracy:   7.0%\n",
      "Iteration:  16150, Training Accuracy:   8.0%, Validation Accuracy:   7.0%\n",
      "Iteration:  16200, Training Accuracy:  11.0%, Validation Accuracy:   6.7%\n",
      "Iteration:  16250, Training Accuracy:  15.0%, Validation Accuracy:   6.8%\n",
      "Iteration:  16300, Training Accuracy:  12.0%, Validation Accuracy:   6.7%\n",
      "Iteration:  16350, Training Accuracy:   5.0%, Validation Accuracy:   6.8%\n",
      "Iteration:  16400, Training Accuracy:  12.0%, Validation Accuracy:   6.7%\n",
      "Iteration:  16450, Training Accuracy:  10.0%, Validation Accuracy:   6.8%\n",
      "Iteration:  16500, Training Accuracy:   6.0%, Validation Accuracy:   6.8%\n",
      "Iteration:  16550, Training Accuracy:   6.0%, Validation Accuracy:   6.8%\n",
      "Iteration:  16600, Training Accuracy:  17.0%, Validation Accuracy:   6.7%\n",
      "Iteration:  16650, Training Accuracy:  10.0%, Validation Accuracy:   7.1%\n",
      "Iteration:  16700, Training Accuracy:  10.0%, Validation Accuracy:   7.1%\n",
      "Iteration:  16750, Training Accuracy:   9.0%, Validation Accuracy:   6.9%\n",
      "Iteration:  16800, Training Accuracy:   6.0%, Validation Accuracy:   6.9%\n",
      "Iteration:  16850, Training Accuracy:   6.0%, Validation Accuracy:   7.1%\n",
      "Iteration:  16900, Training Accuracy:  13.0%, Validation Accuracy:   6.7%\n",
      "Iteration:  16950, Training Accuracy:   8.0%, Validation Accuracy:   6.7%\n",
      "Iteration:  17000, Training Accuracy:   6.0%, Validation Accuracy:   6.8%\n",
      "Iteration:  17050, Training Accuracy:   9.0%, Validation Accuracy:   7.0%\n",
      "Iteration:  17100, Training Accuracy:  15.0%, Validation Accuracy:   6.8%\n",
      "Iteration:  17150, Training Accuracy:  12.0%, Validation Accuracy:   6.7%\n",
      "Iteration:  17200, Training Accuracy:  18.0%, Validation Accuracy:   7.1%\n",
      "Iteration:  17250, Training Accuracy:  11.0%, Validation Accuracy:   7.0%\n",
      "Iteration:  17300, Training Accuracy:  15.0%, Validation Accuracy:   7.1%\n",
      "Iteration:  17350, Training Accuracy:   9.0%, Validation Accuracy:   7.2%\n",
      "Iteration:  17400, Training Accuracy:  14.0%, Validation Accuracy:   7.1%\n",
      "Iteration:  17450, Training Accuracy:  11.0%, Validation Accuracy:   6.7%\n",
      "Iteration:  17500, Training Accuracy:   8.0%, Validation Accuracy:   6.7%\n",
      "Iteration:  17550, Training Accuracy:   9.0%, Validation Accuracy:   6.6%\n",
      "Iteration:  17600, Training Accuracy:   9.0%, Validation Accuracy:   7.2%\n",
      "Iteration:  17650, Training Accuracy:  10.0%, Validation Accuracy:   7.0%\n",
      "Iteration:  17700, Training Accuracy:  17.0%, Validation Accuracy:   6.9%\n",
      "Iteration:  17750, Training Accuracy:  10.0%, Validation Accuracy:   7.3%\n",
      "Iteration:  17800, Training Accuracy:  13.0%, Validation Accuracy:   7.0%\n",
      "Iteration:  17850, Training Accuracy:   6.0%, Validation Accuracy:   6.8%\n",
      "Iteration:  17900, Training Accuracy:   9.0%, Validation Accuracy:   6.8%\n",
      "Iteration:  17950, Training Accuracy:  10.0%, Validation Accuracy:   6.7%\n",
      "Iteration:  18000, Training Accuracy:  12.0%, Validation Accuracy:   6.7%\n",
      "Time usage: 0:22:14\n"
     ]
    },
    {
     "data": {
      "image/png": "[encoded data removed]",
      "text/plain": [
       "<matplotlib.figure.Figure at 0x7fab83b20d90>"
      ]
     },
     "metadata": {},
     "output_type": "display_data"
    }
   ],
   "source": [
    "optimize(num_iterations=3000, X=50)"
   ]
  },
  {
   "cell_type": "code",
   "execution_count": 53,
   "metadata": {},
   "outputs": [
    {
     "name": "stdout",
     "output_type": "stream",
     "text": [
      "Iteration:  18050, Training Accuracy:  10.0%, Validation Accuracy:   6.7%\n",
      "Iteration:  18100, Training Accuracy:  12.0%, Validation Accuracy:   7.2%\n",
      "Iteration:  18150, Training Accuracy:  13.0%, Validation Accuracy:   6.7%\n",
      "Iteration:  18200, Training Accuracy:  11.0%, Validation Accuracy:   6.8%\n",
      "Iteration:  18250, Training Accuracy:   9.0%, Validation Accuracy:   7.0%\n",
      "Iteration:  18300, Training Accuracy:   9.0%, Validation Accuracy:   7.1%\n",
      "Iteration:  18350, Training Accuracy:  11.0%, Validation Accuracy:   6.8%\n",
      "Iteration:  18400, Training Accuracy:   9.0%, Validation Accuracy:   7.5%\n",
      "Iteration:  18450, Training Accuracy:  13.0%, Validation Accuracy:   7.0%\n",
      "Iteration:  18500, Training Accuracy:  13.0%, Validation Accuracy:   7.1%\n",
      "Iteration:  18550, Training Accuracy:  13.0%, Validation Accuracy:   7.3%\n",
      "Iteration:  18600, Training Accuracy:   5.0%, Validation Accuracy:   7.1%\n",
      "Iteration:  18650, Training Accuracy:  13.0%, Validation Accuracy:   7.1%\n",
      "Iteration:  18700, Training Accuracy:  10.0%, Validation Accuracy:   7.1%\n",
      "Iteration:  18750, Training Accuracy:  10.0%, Validation Accuracy:   6.9%\n",
      "Iteration:  18800, Training Accuracy:  10.0%, Validation Accuracy:   7.2%\n",
      "Iteration:  18850, Training Accuracy:   5.0%, Validation Accuracy:   7.2%\n",
      "Iteration:  18900, Training Accuracy:   8.0%, Validation Accuracy:   6.9%\n",
      "Iteration:  18950, Training Accuracy:  12.0%, Validation Accuracy:   7.4%\n",
      "Iteration:  19000, Training Accuracy:   7.0%, Validation Accuracy:   7.1%\n",
      "Iteration:  19050, Training Accuracy:   8.0%, Validation Accuracy:   7.0%\n",
      "Iteration:  19100, Training Accuracy:   7.0%, Validation Accuracy:   6.9%\n",
      "Iteration:  19150, Training Accuracy:  13.0%, Validation Accuracy:   7.1%\n",
      "Iteration:  19200, Training Accuracy:   8.0%, Validation Accuracy:   7.1%\n",
      "Iteration:  19250, Training Accuracy:   9.0%, Validation Accuracy:   6.9%\n",
      "Iteration:  19300, Training Accuracy:  14.0%, Validation Accuracy:   7.0%\n",
      "Iteration:  19350, Training Accuracy:   7.0%, Validation Accuracy:   7.3%\n",
      "Iteration:  19400, Training Accuracy:  13.0%, Validation Accuracy:   7.1%\n",
      "Iteration:  19450, Training Accuracy:  18.0%, Validation Accuracy:   7.0%\n",
      "Iteration:  19500, Training Accuracy:  13.0%, Validation Accuracy:   6.9%\n",
      "Iteration:  19550, Training Accuracy:   8.0%, Validation Accuracy:   7.0%\n",
      "Iteration:  19600, Training Accuracy:  12.0%, Validation Accuracy:   7.3%\n",
      "Iteration:  19650, Training Accuracy:  14.0%, Validation Accuracy:   7.3%\n",
      "Iteration:  19700, Training Accuracy:   8.0%, Validation Accuracy:   7.3%\n",
      "Iteration:  19750, Training Accuracy:  10.0%, Validation Accuracy:   7.2%\n",
      "Iteration:  19800, Training Accuracy:  10.0%, Validation Accuracy:   7.1%\n",
      "Iteration:  19850, Training Accuracy:  17.0%, Validation Accuracy:   7.3%\n",
      "Iteration:  19900, Training Accuracy:  14.0%, Validation Accuracy:   7.2%\n",
      "Iteration:  19950, Training Accuracy:  13.0%, Validation Accuracy:   6.8%\n",
      "Iteration:  20000, Training Accuracy:  13.0%, Validation Accuracy:   6.7%\n",
      "Iteration:  20050, Training Accuracy:   6.0%, Validation Accuracy:   7.0%\n",
      "Iteration:  20100, Training Accuracy:   3.0%, Validation Accuracy:   7.3%\n",
      "Iteration:  20150, Training Accuracy:  13.0%, Validation Accuracy:   7.0%\n",
      "Iteration:  20200, Training Accuracy:   6.0%, Validation Accuracy:   6.7%\n",
      "Iteration:  20250, Training Accuracy:  11.0%, Validation Accuracy:   7.3%\n",
      "Iteration:  20300, Training Accuracy:   8.0%, Validation Accuracy:   7.0%\n",
      "Iteration:  20350, Training Accuracy:  11.0%, Validation Accuracy:   7.2%\n",
      "Iteration:  20400, Training Accuracy:  12.0%, Validation Accuracy:   7.0%\n",
      "Iteration:  20450, Training Accuracy:  20.0%, Validation Accuracy:   7.1%\n",
      "Iteration:  20500, Training Accuracy:  12.0%, Validation Accuracy:   7.5%\n",
      "Iteration:  20550, Training Accuracy:  14.0%, Validation Accuracy:   7.2%\n",
      "Iteration:  20600, Training Accuracy:  10.0%, Validation Accuracy:   7.1%\n",
      "Iteration:  20650, Training Accuracy:   8.0%, Validation Accuracy:   6.7%\n",
      "Iteration:  20700, Training Accuracy:  13.0%, Validation Accuracy:   7.4%\n",
      "Iteration:  20750, Training Accuracy:  11.0%, Validation Accuracy:   7.3%\n",
      "Iteration:  20800, Training Accuracy:  14.0%, Validation Accuracy:   6.9%\n",
      "Iteration:  20850, Training Accuracy:  12.0%, Validation Accuracy:   7.4%\n",
      "Iteration:  20900, Training Accuracy:  16.0%, Validation Accuracy:   7.1%\n",
      "Iteration:  20950, Training Accuracy:   9.0%, Validation Accuracy:   7.2%\n",
      "Iteration:  21000, Training Accuracy:  13.0%, Validation Accuracy:   7.1%\n",
      "Time usage: 0:23:15\n"
     ]
    },
    {
     "data": {
      "image/png": "[encoded data removed]",
      "text/plain": [
       "<matplotlib.figure.Figure at 0x7fab83ed6890>"
      ]
     },
     "metadata": {},
     "output_type": "display_data"
    }
   ],
   "source": [
    "optimize(num_iterations=3000, X=50)"
   ]
  },
  {
   "cell_type": "code",
   "execution_count": null,
   "metadata": {},
   "outputs": [],
   "source": []
  }
 ],
 "metadata": {
  "kernelspec": {
   "display_name": "Python 2",
   "language": "python",
   "name": "python2"
  },
  "language_info": {
   "codemirror_mode": {
    "name": "ipython",
    "version": 2
   },
   "file_extension": ".py",
   "mimetype": "text/x-python",
   "name": "python",
   "nbconvert_exporter": "python",
   "pygments_lexer": "ipython2",
   "version": "2.7.14"
  }
 },
 "nbformat": 4,
 "nbformat_minor": 2
}
